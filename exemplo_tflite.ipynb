{
 "cells": [
  {
   "cell_type": "code",
   "execution_count": 1,
   "source": [
    "import tflite_runtime.interpreter as tflite\n",
    "import pickle\n",
    "import cv2 as cv\n",
    "import numpy as np"
   ],
   "outputs": [],
   "metadata": {}
  },
  {
   "cell_type": "code",
   "execution_count": 9,
   "source": [
    "labels = ['LEFT MIN','LEFT MAX','FORWARD', 'RIGHT MIN', 'RIGHT MAX']"
   ],
   "outputs": [],
   "metadata": {}
  },
  {
   "cell_type": "code",
   "execution_count": 2,
   "source": [
    "with(open('resources/train_images/dados_2021_08_31_20_12_13.606412_315_imagens','rb')) as openfile:\n",
    "    dados_brutos = pickle.load(openfile)"
   ],
   "outputs": [],
   "metadata": {}
  },
  {
   "cell_type": "code",
   "execution_count": 3,
   "source": [
    "interpreter = tflite.Interpreter('models/mlp_model.tflite')"
   ],
   "outputs": [],
   "metadata": {}
  },
  {
   "cell_type": "code",
   "execution_count": 4,
   "source": [
    "interpreter.allocate_tensors()"
   ],
   "outputs": [],
   "metadata": {}
  },
  {
   "cell_type": "code",
   "execution_count": 46,
   "source": [
    "idx = 44\n",
    "test_img = cv.cvtColor(dados_brutos[idx][0],cv.COLOR_RGB2GRAY)\n",
    "test_label = dados_brutos[idx][1]\n",
    "test_img = np.array(test_img, dtype=np.float32) / 255.0\n",
    "test_img = test_img[np.newaxis, ..., np.newaxis]\n",
    "test_label"
   ],
   "outputs": [
    {
     "output_type": "execute_result",
     "data": {
      "text/plain": [
       "'RIGHT MAX'"
      ]
     },
     "metadata": {},
     "execution_count": 46
    }
   ],
   "metadata": {}
  },
  {
   "cell_type": "code",
   "execution_count": 47,
   "source": [
    "interpreter.set_tensor(0,test_img)"
   ],
   "outputs": [],
   "metadata": {}
  },
  {
   "cell_type": "code",
   "execution_count": 48,
   "source": [
    "interpreter.invoke()"
   ],
   "outputs": [],
   "metadata": {}
  },
  {
   "cell_type": "code",
   "execution_count": 49,
   "source": [
    "output = interpreter.get_tensor(10)\n",
    "output"
   ],
   "outputs": [
    {
     "output_type": "execute_result",
     "data": {
      "text/plain": [
       "array([[1.1629793e-04, 1.0322048e-03, 1.1261383e-03, 5.4919172e-05,\n",
       "        9.9767047e-01]], dtype=float32)"
      ]
     },
     "metadata": {},
     "execution_count": 49
    }
   ],
   "metadata": {}
  },
  {
   "cell_type": "code",
   "execution_count": 50,
   "source": [
    "labels[output.argmax()]"
   ],
   "outputs": [
    {
     "output_type": "execute_result",
     "data": {
      "text/plain": [
       "'RIGHT MAX'"
      ]
     },
     "metadata": {},
     "execution_count": 50
    }
   ],
   "metadata": {}
  },
  {
   "cell_type": "code",
   "execution_count": null,
   "source": [],
   "outputs": [],
   "metadata": {}
  }
 ],
 "metadata": {
  "kernelspec": {
   "name": "python3",
   "display_name": "Python 3.9.6 64-bit ('cv': conda)"
  },
  "language_info": {
   "codemirror_mode": {
    "name": "ipython",
    "version": 3
   },
   "file_extension": ".py",
   "mimetype": "text/x-python",
   "name": "python",
   "nbconvert_exporter": "python",
   "pygments_lexer": "ipython3",
   "version": "3.9.6"
  },
  "interpreter": {
   "hash": "f09159bd75f25c6848b6302f69d056c4670fe9b145c8e63bf173ad8147b44cf4"
  }
 },
 "nbformat": 4,
 "nbformat_minor": 5
}