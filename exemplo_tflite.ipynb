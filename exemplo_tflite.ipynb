{
 "cells": [
  {
   "cell_type": "code",
   "execution_count": 1,
   "id": "73821300",
   "metadata": {},
   "outputs": [],
   "source": [
    "import tflite_runtime.interpreter as tflite\n",
    "import pickle\n",
    "import cv2 as cv\n",
    "import numpy as np"
   ]
  },
  {
   "cell_type": "code",
   "execution_count": 9,
   "id": "460872e5",
   "metadata": {},
   "outputs": [],
   "source": [
    "labels = ['LEFT MIN','LEFT MAX','FORWARD', 'RIGHT MIN', 'RIGHT MAX']"
   ]
  },
  {
   "cell_type": "code",
   "execution_count": 2,
   "id": "c19d7c9e",
   "metadata": {},
   "outputs": [],
   "source": [
    "with(open('resources/train_images/dados_2021_08_31_20_12_13.606412_315_imagens','rb')) as openfile:\n",
    "    dados_brutos = pickle.load(openfile)"
   ]
  },
  {
   "cell_type": "code",
   "execution_count": 3,
   "id": "342d3b87",
   "metadata": {},
   "outputs": [],
   "source": [
    "interpreter = tflite.Interpreter('models/mlp_model.tflite')"
   ]
  },
  {
   "cell_type": "code",
   "execution_count": 4,
   "id": "574d48a6",
   "metadata": {},
   "outputs": [],
   "source": [
    "interpreter.allocate_tensors()"
   ]
  },
  {
   "cell_type": "code",
   "execution_count": 46,
   "id": "8048dadb",
   "metadata": {},
   "outputs": [
    {
     "data": {
      "text/plain": [
       "'RIGHT MAX'"
      ]
     },
     "execution_count": 46,
     "metadata": {},
     "output_type": "execute_result"
    }
   ],
   "source": [
    "idx = 44\n",
    "test_img = cv.cvtColor(dados_brutos[idx][0],cv.COLOR_RGB2GRAY)\n",
    "test_label = dados_brutos[idx][1]\n",
    "test_img = np.array(test_img, dtype=np.float32) / 255.0\n",
    "test_img = test_img[np.newaxis, ..., np.newaxis]\n",
    "test_label"
   ]
  },
  {
   "cell_type": "code",
   "execution_count": 47,
   "id": "3d0fad79",
   "metadata": {},
   "outputs": [],
   "source": [
    "interpreter.set_tensor(0,test_img)"
   ]
  },
  {
   "cell_type": "code",
   "execution_count": 48,
   "id": "12c649bf",
   "metadata": {},
   "outputs": [],
   "source": [
    "interpreter.invoke()"
   ]
  },
  {
   "cell_type": "code",
   "execution_count": 49,
   "id": "2a19fe23",
   "metadata": {},
   "outputs": [
    {
     "data": {
      "text/plain": [
       "array([[1.1629793e-04, 1.0322048e-03, 1.1261383e-03, 5.4919172e-05,\n",
       "        9.9767047e-01]], dtype=float32)"
      ]
     },
     "execution_count": 49,
     "metadata": {},
     "output_type": "execute_result"
    }
   ],
   "source": [
    "output = interpreter.get_tensor(10)\n",
    "output"
   ]
  },
  {
   "cell_type": "code",
   "execution_count": 50,
   "id": "f923bb87",
   "metadata": {},
   "outputs": [
    {
     "data": {
      "text/plain": [
       "'RIGHT MAX'"
      ]
     },
     "execution_count": 50,
     "metadata": {},
     "output_type": "execute_result"
    }
   ],
   "source": [
    "labels[output.argmax()]"
   ]
  },
  {
   "cell_type": "code",
   "execution_count": null,
   "id": "9b255b5f",
   "metadata": {},
   "outputs": [],
   "source": []
  }
 ],
 "metadata": {
  "interpreter": {
   "hash": "f09159bd75f25c6848b6302f69d056c4670fe9b145c8e63bf173ad8147b44cf4"
  },
  "kernelspec": {
   "display_name": "Python 3.9.6 64-bit ('cv': conda)",
   "name": "python3"
  },
  "language_info": {
   "codemirror_mode": {
    "name": "ipython",
    "version": 3
   },
   "file_extension": ".py",
   "mimetype": "text/x-python",
   "name": "python",
   "nbconvert_exporter": "python",
   "pygments_lexer": "ipython3",
   "version": "3.9.6"
  }
 },
 "nbformat": 4,
 "nbformat_minor": 5
}
